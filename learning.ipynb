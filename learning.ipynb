{
 "cells": [
  {
   "cell_type": "markdown",
   "id": "5de84644-7f4d-49b1-9bbf-9d8d6aa4b52f",
   "metadata": {},
   "source": [
    "# Tracking Pro Supports"
   ]
  },
  {
   "cell_type": "markdown",
   "id": "87a2586b-a994-4e6e-8654-5b1f70942f34",
   "metadata": {},
   "source": [
    "## Getting Latest Version\n",
    "\n",
    "<p>First, we use Data Dragon to get the latest version of the game for our region (na1). </p>\n",
    "<p></p>"
   ]
  },
  {
   "cell_type": "code",
   "execution_count": 4,
   "id": "209e6585-1f08-4213-8903-8ab77f66407a",
   "metadata": {},
   "outputs": [],
   "source": [
    "from riotwatcher import LolWatcher, ApiError\n",
    "\n",
    "# api key goes here\n",
    "api_key = 'RGAPI-9116b03a-d7f4-42ac-a71b-f9031ab55e0f'\n",
    "\n",
    "lol_watcher = LolWatcher(api_key)\n",
    "\n",
    "versions = lol_watcher.data_dragon.versions_for_region('na1')\n",
    "champions_version = versions['n']['champion']\n",
    "\n",
    "# interested in the id and key of each champion in the dictionary\n",
    "current_champion_list = lol_watcher.data_dragon.champions(champions_version)\n",
    "champion_key_pairs = ([[current_champion_list['data'][name]['id'], current_champion_list['data'][name]['key']] for name in current_champion_list['data']])\n",
    "champion_key_pairs.sort(key=lambda x: int(x[1]))\n",
    "\n",
    "# writing champions and keys to champions.txt as csv\n",
    "with open('champions.txt', 'w') as f:\n",
    "    f.write('champion, key\\n')\n",
    "    for i in champion_key_pairs:\n",
    "        f.write(','.join(i))\n",
    "        f.write('\\n')\n",
    "    f.close()"
   ]
  },
  {
   "cell_type": "markdown",
   "id": "19dde923-ae7c-4ab4-bd3d-ab3f6261d6d9",
   "metadata": {},
   "source": [
    "## Observing Pro Supports (myself! xd)\n",
    "\n",
    "<p>Next let's look at the worst support on the NA server, kuraian. First we will get all the match id's for this season (13) and save them to (puuid)_matches.txt.</p>"
   ]
  },
  {
   "cell_type": "code",
   "execution_count": 10,
   "id": "33856ed1-4ba3-4a7d-8ca1-91cfb96cc679",
   "metadata": {},
   "outputs": [
    {
     "name": "stdout",
     "output_type": "stream",
     "text": [
      "username: kuraian\n",
      "[{'queueType': 'CHERRY', 'summonerId': 'Z2wyccLK4Bz2EyaJ6W_Vwu8AFFMp0b0SxD81Dne3G51tXIk', 'summonerName': 'kuraian', 'leaguePoints': 0, 'wins': 23, 'losses': 7, 'veteran': False, 'inactive': False, 'freshBlood': False, 'hotStreak': False}]\n",
      "wins: 23\n",
      "losses: 7\n",
      "total: 30\n",
      "100 ranked matches found\n",
      "['NA1_4661343109', 'NA1_4661318565', 'NA1_4661304994', 'NA1_4661173285', 'NA1_4661149308', 'NA1_4659526293', 'NA1_4659468412', 'NA1_4659445014', 'NA1_4659400059', 'NA1_4659354459', 'NA1_4655855974', 'NA1_4653203634', 'NA1_4653194972', 'NA1_4652331774', 'NA1_4652308354', 'NA1_4652283072', 'NA1_4652259458', 'NA1_4652237695', 'NA1_4652079052', 'NA1_4652072183', 'NA1_4652063387', 'NA1_4652060950', 'NA1_4652042641', 'NA1_4652038143', 'NA1_4652021791', 'NA1_4651634109', 'NA1_4651605403', 'NA1_4651574692', 'NA1_4651548504', 'NA1_4651531965', 'NA1_4651503432', 'NA1_4651483716', 'NA1_4651469359', 'NA1_4647807603', 'NA1_4647783820', 'NA1_4647757199', 'NA1_4647567972', 'NA1_4647548198', 'NA1_4647536893', 'NA1_4647504494', 'NA1_4647027352', 'NA1_4642674826', 'NA1_4642638054', 'NA1_4642605732', 'NA1_4641997600', 'NA1_4641969712', 'NA1_4641961770', 'NA1_4641910505', 'NA1_4641882542', 'NA1_4641863970', 'NA1_4641484829', 'NA1_4641437539', 'NA1_4641404845', 'NA1_4641378131', 'NA1_4641344448', 'NA1_4641316080', 'NA1_4641284824', 'NA1_4641196063', 'NA1_4640626057', 'NA1_4640592160', 'NA1_4640502037', 'NA1_4640416941', 'NA1_4640311949', 'NA1_4639980396', 'NA1_4639954654', 'NA1_4639829004', 'NA1_4639746767', 'NA1_4639715241', 'NA1_4639678134', 'NA1_4639563496', 'NA1_4639535202', 'NA1_4639489292', 'NA1_4639473293', 'NA1_4639457015', 'NA1_4639441818', 'NA1_4638921741', 'NA1_4638738406', 'NA1_4638703652', 'NA1_4638681397', 'NA1_4638654142', 'NA1_4638619682', 'NA1_4638612319', 'NA1_4638574714', 'NA1_4638540117', 'NA1_4638516698', 'NA1_4638347289', 'NA1_4638332195', 'NA1_4638317200', 'NA1_4638293432', 'NA1_4636582961', 'NA1_4636557701', 'NA1_4636538628', 'NA1_4636528466', 'NA1_4636509518', 'NA1_4636504952', 'NA1_4636497889', 'NA1_4636484382', 'NA1_4636480934', 'NA1_4636466335', 'NA1_4636469849']\n"
     ]
    }
   ],
   "source": [
    "import datetime\n",
    "from riotwatcher import LolWatcher, ApiError\n",
    "\n",
    "# api key goes here\n",
    "api_key = 'RGAPI-9116b03a-d7f4-42ac-a71b-f9031ab55e0f'\n",
    "\n",
    "lol_watcher = LolWatcher(api_key)\n",
    "\n",
    "username = 'kuraian'\n",
    "me = lol_watcher.summoner.by_name(my_region, username)\n",
    "print('username:', username)\n",
    "\n",
    "# get number of games played this season\n",
    "me_ranked = lol_watcher.league.by_summoner('na1', me['id'])\n",
    "print(me_ranked)\n",
    "me_wins = me_ranked[0]['wins']\n",
    "me_losses = me_ranked[0]['losses']\n",
    "me_total = me_wins+me_losses\n",
    "print('wins:', me_wins)\n",
    "print('losses:', me_losses)\n",
    "print('total:', me_total)\n",
    "\n",
    "\n",
    "# convert season start date to epoch timestamp\n",
    "epoch = datetime.datetime(2023, 1, 10, 0, 0, 0).timestamp()\n",
    "\n",
    "# getting recent match ids by iterating through all games played this season\n",
    "match_ids = []\n",
    "for i in range((me_total//100)+1):\n",
    "    match_ids += lol_watcher.match.matchlist_by_puuid(region='na1', puuid=me['puuid'], queue=420, start=i*100, count=100, start_time=int(epoch))\n",
    "\n",
    "print(len(match_ids), \"ranked matches found\")\n",
    "with open(me['puuid']+\"_matches.txt\", 'w') as f:\n",
    "    f.write(','.join(match_ids))\n",
    "    f.close()\n",
    "\n",
    "print(match_ids)"
   ]
  },
  {
   "cell_type": "markdown",
   "id": "2e41fce5-d02e-40f7-832b-4eba52e9f92c",
   "metadata": {},
   "source": [
    "## Getting the 20 Most Recent Matches\n",
    "\n",
    "<p>For practice's sake, let's get the match data for the 20 most recent games played by our user. Yes, it is redundant to write and read from a csv instead of using the list we just made, but this is for practice.</p>\n",
    "\n",
    "<p>Limits:<br>\n",
    "20/second<br>\n",
    "100/2 minutes<br>\n",
    "<a href='https://developer.riotgames.com/docs/portal'>https://developer.riotgames.com/docs/portal</a></p>"
   ]
  },
  {
   "cell_type": "code",
   "execution_count": 111,
   "id": "1dd5a346-e4bb-42d2-b09d-02be5b0a8f16",
   "metadata": {},
   "outputs": [],
   "source": [
    "import csv\n",
    "import pandas as pd\n",
    "\n",
    "puuid = 'qmE7mbGeQYtCkQ0eb6VknE4Yi-2Ts-n8ekM4o2z3cJHow_knhQYkC_45vYDazCgA9xxNbYmHtFrpGA'\n",
    "\n",
    "f = open(puuid+\"_matches.txt\", 'r')\n",
    "csv_reader = csv.reader(f, delimiter=',')\n",
    "match_ids = [i for i in list(csv_reader)[0]]\n",
    "f.close()\n",
    "match_data = []\n",
    "\n",
    "for id in match_ids[:20]:\n",
    "    match_data.append(lol_watcher.match.by_id('na1', id))"
   ]
  },
  {
   "cell_type": "markdown",
   "id": "90e9ed2f-60ef-443b-a38d-7b65720ffe4b",
   "metadata": {},
   "source": [
    "<p>Next, let's dive into the data of a single match. We are only interested in the performance of kuraian in this match.</p>"
   ]
  },
  {
   "cell_type": "code",
   "execution_count": 116,
   "id": "2ad78027-8729-45c3-895d-60bfeb50edc4",
   "metadata": {},
   "outputs": [
    {
     "name": "stdout",
     "output_type": "stream",
     "text": [
      "{'allInPings': 0, 'assistMePings': 9, 'assists': 12, 'baitPings': 0, 'baronKills': 0, 'basicPings': 0, 'bountyLevel': 0, 'challenges': {'12AssistStreakCount': 1, 'abilityUses': 206, 'acesBefore15Minutes': 0, 'alliedJungleMonsterKills': 0, 'baronTakedowns': 1, 'blastConeOppositeOpponentCount': 0, 'bountyGold': 0, 'buffsStolen': 0, 'completeSupportQuestInTime': 1, 'controlWardTimeCoverageInRiverOrEnemyHalf': 0.3218620978495738, 'controlWardsPlaced': 2, 'damagePerMinute': 178.85714606292444, 'damageTakenOnTeamPercentage': 0.14063012740607653, 'dancedWithRiftHerald': 0, 'deathsByEnemyChamps': 6, 'dodgeSkillShotsSmallWindow': 1, 'doubleAces': 0, 'dragonTakedowns': 1, 'earliestBaron': 1285.6233725, 'earliestDragonTakedown': 1414.8291574999998, 'earlyLaningPhaseGoldExpAdvantage': 0, 'effectiveHealAndShielding': 9182.845703125, 'elderDragonKillsWithOpposingSoul': 0, 'elderDragonMultikills': 0, 'enemyChampionImmobilizations': 33, 'enemyJungleMonsterKills': 0, 'epicMonsterKillsNearEnemyJungler': 0, 'epicMonsterKillsWithin30SecondsOfSpawn': 0, 'epicMonsterSteals': 0, 'epicMonsterStolenWithoutSmite': 0, 'fasterSupportQuestCompletion': 1, 'firstTurretKilled': 0, 'flawlessAces': 0, 'fullTeamTakedown': 0, 'gameLength': 1843.611033, 'getTakedownsInAllLanesEarlyJungleAsLaner': 0, 'goldPerMinute': 235.57489556556587, 'hadOpenNexus': 0, 'highestCrowdControlScore': 1, 'immobilizeAndKillWithAlly': 6, 'initialBuffCount': 0, 'initialCrabCount': 0, 'jungleCsBefore10Minutes': 0, 'junglerTakedownsNearDamagedEpicMonster': 0, 'kTurretsDestroyedBeforePlatesFall': 0, 'kda': 2, 'killAfterHiddenWithAlly': 1, 'killParticipation': 0.5454545454545454, 'killedChampTookFullTeamDamageSurvived': 0, 'killingSprees': 0, 'killsNearEnemyTurret': 0, 'killsOnOtherLanesEarlyJungleAsLaner': 0, 'killsOnRecentlyHealedByAramPack': 0, 'killsUnderOwnTurret': 0, 'killsWithHelpFromEpicMonster': 0, 'knockEnemyIntoTeamAndKill': 1, 'landSkillShotsEarlyGame': 6, 'laneMinionsFirst10Minutes': 1, 'laningPhaseGoldExpAdvantage': 0, 'legendaryCount': 0, 'lostAnInhibitor': 0, 'maxCsAdvantageOnLaneOpponent': 0, 'maxKillDeficit': 0, 'maxLevelLeadLaneOpponent': 1, 'mejaisFullStackInTime': 0, 'moreEnemyJungleThanOpponent': 0, 'multiKillOneSpell': 0, 'multiTurretRiftHeraldCount': 0, 'multikills': 0, 'multikillsAfterAggressiveFlash': 0, 'mythicItemUsed': 6620, 'outerTurretExecutesBefore10Minutes': 0, 'outnumberedKills': 0, 'outnumberedNexusKill': 0, 'perfectDragonSoulsTaken': 0, 'perfectGame': 0, 'pickKillWithAlly': 11, 'playedChampSelectPosition': 1, 'poroExplosions': 0, 'quickCleanse': 0, 'quickFirstTurret': 0, 'quickSoloKills': 0, 'riftHeraldTakedowns': 0, 'saveAllyFromDeath': 4, 'scuttleCrabKills': 0, 'skillshotsDodged': 11, 'skillshotsHit': 28, 'snowballsHit': 0, 'soloBaronKills': 0, 'soloKills': 0, 'stealthWardsPlaced': 30, 'survivedSingleDigitHpCount': 0, 'survivedThreeImmobilizesInFight': 0, 'takedownOnFirstTurret': 1, 'takedowns': 12, 'takedownsAfterGainingLevelAdvantage': 0, 'takedownsBeforeJungleMinionSpawn': 0, 'takedownsFirstXMinutes': 4, 'takedownsInAlcove': 0, 'takedownsInEnemyFountain': 0, 'teamBaronKills': 1, 'teamDamagePercentage': 0.07155457795453643, 'teamElderDragonKills': 0, 'teamRiftHeraldKills': 0, 'tookLargeDamageSurvived': 0, 'turretPlatesTaken': 2, 'turretTakedowns': 1, 'turretsTakenWithRiftHerald': 0, 'twentyMinionsIn3SecondsCount': 0, 'twoWardsOneSweeperCount': 0, 'unseenRecalls': 0, 'visionScoreAdvantageLaneOpponent': -0.12764382362365723, 'visionScorePerMinute': 2.224467351226538, 'wardTakedowns': 6, 'wardTakedownsBefore20M': 4, 'wardsGuarded': 0}, 'champExperience': 10426, 'champLevel': 13, 'championId': 40, 'championName': 'Janna', 'championTransform': 0, 'commandPings': 6, 'consumablesPurchased': 4, 'damageDealtToBuildings': 541, 'damageDealtToObjectives': 575, 'damageDealtToTurrets': 541, 'damageSelfMitigated': 11352, 'dangerPings': 0, 'deaths': 6, 'detectorWardsPlaced': 2, 'doubleKills': 0, 'dragonKills': 0, 'eligibleForProgression': True, 'enemyMissingPings': 7, 'enemyVisionPings': 10, 'firstBloodAssist': False, 'firstBloodKill': False, 'firstTowerAssist': False, 'firstTowerKill': False, 'gameEndedInEarlySurrender': False, 'gameEndedInSurrender': False, 'getBackPings': 0, 'goldEarned': 7238, 'goldSpent': 6900, 'holdPings': 0, 'individualPosition': 'UTILITY', 'inhibitorKills': 0, 'inhibitorTakedowns': 0, 'inhibitorsLost': 1, 'item0': 6620, 'item1': 3114, 'item2': 3853, 'item3': 3158, 'item4': 1028, 'item5': 3504, 'item6': 3364, 'itemsPurchased': 21, 'killingSprees': 0, 'kills': 0, 'lane': 'BOTTOM', 'largestCriticalStrike': 0, 'largestKillingSpree': 0, 'largestMultiKill': 0, 'longestTimeSpentLiving': 473, 'magicDamageDealt': 8477, 'magicDamageDealtToChampions': 4455, 'magicDamageTaken': 3834, 'needVisionPings': 1, 'neutralMinionsKilled': 0, 'nexusKills': 0, 'nexusLost': 1, 'nexusTakedowns': 0, 'objectivesStolen': 0, 'objectivesStolenAssists': 0, 'onMyWayPings': 3, 'participantId': 10, 'pentaKills': 0, 'perks': {'statPerks': {'defense': 5002, 'flex': 5008, 'offense': 5007}, 'styles': [{'description': 'primaryStyle', 'selections': [{'perk': 8351, 'var1': 72, 'var2': 1825, 'var3': 0}, {'perk': 8304, 'var1': 11, 'var2': 1, 'var3': 5}, {'perk': 8345, 'var1': 3, 'var2': 0, 'var3': 0}, {'perk': 8347, 'var1': 0, 'var2': 0, 'var3': 0}], 'style': 8300}, {'description': 'subStyle', 'selections': [{'perk': 8473, 'var1': 1052, 'var2': 0, 'var3': 0}, {'perk': 8453, 'var1': 670, 'var2': 851, 'var3': 0}], 'style': 8400}]}, 'physicalDamageDealt': 2362, 'physicalDamageDealtToChampions': 1040, 'physicalDamageTaken': 11203, 'profileIcon': 5675, 'pushPings': 0, 'puuid': 'qmE7mbGeQYtCkQ0eb6VknE4Yi-2Ts-n8ekM4o2z3cJHow_knhQYkC_45vYDazCgA9xxNbYmHtFrpGA', 'quadraKills': 0, 'riotIdName': '', 'riotIdTagline': '', 'role': 'SUPPORT', 'sightWardsBoughtInGame': 0, 'spell1Casts': 105, 'spell2Casts': 27, 'spell3Casts': 69, 'spell4Casts': 5, 'summoner1Casts': 6, 'summoner1Id': 3, 'summoner2Casts': 4, 'summoner2Id': 4, 'summonerId': 'Z2wyccLK4Bz2EyaJ6W_Vwu8AFFMp0b0SxD81Dne3G51tXIk', 'summonerLevel': 515, 'summonerName': 'kuraian', 'teamEarlySurrendered': False, 'teamId': 200, 'teamPosition': 'UTILITY', 'timeCCingOthers': 44, 'timePlayed': 1843, 'totalAllyJungleMinionsKilled': 0, 'totalDamageDealt': 10839, 'totalDamageDealtToChampions': 5495, 'totalDamageShieldedOnTeammates': 6276, 'totalDamageTaken': 15963, 'totalEnemyJungleMinionsKilled': 0, 'totalHeal': 5172, 'totalHealsOnTeammates': 2906, 'totalMinionsKilled': 7, 'totalTimeCCDealt': 269, 'totalTimeSpentDead': 164, 'totalUnitsHealed': 5, 'tripleKills': 0, 'trueDamageDealt': 0, 'trueDamageDealtToChampions': 0, 'trueDamageTaken': 925, 'turretKills': 0, 'turretTakedowns': 1, 'turretsLost': 9, 'unrealKills': 0, 'visionClearedPings': 3, 'visionScore': 68, 'visionWardsBoughtInGame': 2, 'wardsKilled': 6, 'wardsPlaced': 32, 'win': False}\n"
     ]
    }
   ],
   "source": [
    "participants = match_data[0]['metadata']['participants']\n",
    "me_participant = participants.index(puuid)\n",
    "me_info = match_data[0]['info']['participants'][me_participant]\n",
    "print(me_info)"
   ]
  },
  {
   "cell_type": "markdown",
   "id": "9a21d3a5-e539-4f08-915c-57ec5c3de3f9",
   "metadata": {},
   "source": [
    "## That's a Lot of Text!\n",
    "<p>From here, the world is your oyster. We can look at whatever statistics we want, or use these to filter for matches that we want to use!</p>"
   ]
  }
 ],
 "metadata": {
  "kernelspec": {
   "display_name": "Python 3 (ipykernel)",
   "language": "python",
   "name": "python3"
  },
  "language_info": {
   "codemirror_mode": {
    "name": "ipython",
    "version": 3
   },
   "file_extension": ".py",
   "mimetype": "text/x-python",
   "name": "python",
   "nbconvert_exporter": "python",
   "pygments_lexer": "ipython3",
   "version": "3.11.4"
  }
 },
 "nbformat": 4,
 "nbformat_minor": 5
}
