{
 "cells": [
  {
   "cell_type": "markdown",
   "id": "5de84644-7f4d-49b1-9bbf-9d8d6aa4b52f",
   "metadata": {},
   "source": [
    "# Tracking Pro Supports"
   ]
  },
  {
   "cell_type": "markdown",
   "id": "87a2586b-a994-4e6e-8654-5b1f70942f34",
   "metadata": {},
   "source": [
    "## Getting Latest Version\n",
    "\n",
    "<p>First, we use Data Dragon to get the latest version of the game for our region (na1). </p>\n",
    "<p></p>"
   ]
  },
  {
   "cell_type": "code",
   "execution_count": 45,
   "id": "209e6585-1f08-4213-8903-8ab77f66407a",
   "metadata": {},
   "outputs": [],
   "source": [
    "from riotwatcher import LolWatcher, ApiError\n",
    "\n",
    "# api key goes here\n",
    "api_key = 'RGAPI-5658c289-128d-4696-89ee-04a9fd71ae75'\n",
    "\n",
    "lol_watcher = LolWatcher(api_key)\n",
    "\n",
    "versions = lol_watcher.data_dragon.versions_for_region('na1')\n",
    "champions_version = versions['n']['champion']\n",
    "\n",
    "# interested in the id and key of each champion in the dictionary\n",
    "current_champion_list = lol_watcher.data_dragon.champions(champions_version)\n",
    "champion_key_pairs = ([[current_champion_list['data'][name]['id'], current_champion_list['data'][name]['key']] for name in current_champion_list['data']])\n",
    "champion_key_pairs.sort(key=lambda x: int(x[1]))\n",
    "\n",
    "# joining champions and keys in order as csv\n",
    "csv_champions = ','.join([i[0] for i in champion_key_pairs])\n",
    "csv_keys = ','.join([i[1] for i in champion_key_pairs])\n",
    "\n",
    "# writing champions and keys to champions.txt as csv\n",
    "with open('champions.txt', 'w') as f:\n",
    "    f.write(csv_champions)\n",
    "    f.write('\\n')\n",
    "    f.write(csv_keys)\n",
    "    f.close()"
   ]
  },
  {
   "cell_type": "code",
   "execution_count": 4,
   "id": "33856ed1-4ba3-4a7d-8ca1-91cfb96cc679",
   "metadata": {},
   "outputs": [
    {
     "name": "stdout",
     "output_type": "stream",
     "text": [
      "{'id': 'Z2wyccLK4Bz2EyaJ6W_Vwu8AFFMp0b0SxD81Dne3G51tXIk', 'accountId': 'i_FI-Mxk9LyFeUPfzVsBVMFb3lmnDRCJ7nBzkBUp_ywfdg', 'puuid': 'qmE7mbGeQYtCkQ0eb6VknE4Yi-2Ts-n8ekM4o2z3cJHow_knhQYkC_45vYDazCgA9xxNbYmHtFrpGA', 'name': 'kuraian', 'profileIconId': 5675, 'revisionDate': 1684632781000, 'summonerLevel': 515}\n",
      "[{'leagueId': 'e5da66a2-15a9-41b0-931e-de612e68fe3a', 'queueType': 'RANKED_FLEX_SR', 'tier': 'PLATINUM', 'rank': 'II', 'summonerId': 'Z2wyccLK4Bz2EyaJ6W_Vwu8AFFMp0b0SxD81Dne3G51tXIk', 'summonerName': 'kuraian', 'leaguePoints': 97, 'wins': 13, 'losses': 29, 'veteran': False, 'inactive': False, 'freshBlood': False, 'hotStreak': False}, {'leagueId': '056c883a-68b1-497c-aad3-cc05789d9449', 'queueType': 'RANKED_SOLO_5x5', 'tier': 'DIAMOND', 'rank': 'I', 'summonerId': 'Z2wyccLK4Bz2EyaJ6W_Vwu8AFFMp0b0SxD81Dne3G51tXIk', 'summonerName': 'kuraian', 'leaguePoints': 75, 'wins': 226, 'losses': 222, 'veteran': False, 'inactive': False, 'freshBlood': False, 'hotStreak': False}]\n",
      "Summoner with that ridiculous name not found.\n"
     ]
    }
   ],
   "source": [
    "\n",
    "me = lol_watcher.summoner.by_name(my_region, 'kuraian')\n",
    "print(me)\n",
    "\n",
    "# all objects are returned (by default) as a dict\n",
    "# lets see if i got diamond yet (i probably didnt)\n",
    "my_ranked_stats = lol_watcher.league.by_summoner(my_region, me['id'])\n",
    "print(my_ranked_stats)\n",
    "\n",
    "# First we get the latest version of the game from data dragon\n",
    "versions = lol_watcher.data_dragon.versions_for_region(my_region)\n",
    "champions_version = versions['n']['champion']\n",
    "\n",
    "# Lets get some champions\n",
    "# current_champ_list = lol_watcher.data_dragon.champions(champions_version)\n",
    "# print(current_champ_list)\n",
    "\n",
    "# For Riot's API, the 404 status code indicates that the requested data wasn't found and\n",
    "# should be expected to occur in normal operation, as in the case of a an\n",
    "# invalid summoner name, match ID, etc.\n",
    "#\n",
    "# The 429 status code indicates that the user has sent too many requests\n",
    "# in a given amount of time (\"rate limiting\").\n",
    "\n",
    "try:\n",
    "    response = lol_watcher.summoner.by_name(my_region, 'someone is really really really really dumb')\n",
    "except ApiError as err:\n",
    "    if err.response.status_code == 429:\n",
    "        print('We should retry in {} seconds.'.format(err.response.headers['Retry-After']))\n",
    "        print('this retry-after is handled by default by the RiotWatcher library')\n",
    "        print('future requests wait until the retry-after time passes')\n",
    "    elif err.response.status_code == 404:\n",
    "        print('Summoner with that ridiculous name not found.')\n",
    "    else:\n",
    "        raise"
   ]
  },
  {
   "cell_type": "code",
   "execution_count": null,
   "id": "f91287d2-569a-4430-9dfb-2af587423351",
   "metadata": {},
   "outputs": [],
   "source": []
  }
 ],
 "metadata": {
  "kernelspec": {
   "display_name": "Python 3 (ipykernel)",
   "language": "python",
   "name": "python3"
  },
  "language_info": {
   "codemirror_mode": {
    "name": "ipython",
    "version": 3
   },
   "file_extension": ".py",
   "mimetype": "text/x-python",
   "name": "python",
   "nbconvert_exporter": "python",
   "pygments_lexer": "ipython3",
   "version": "3.11.1"
  }
 },
 "nbformat": 4,
 "nbformat_minor": 5
}
