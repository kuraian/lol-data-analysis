{
 "cells": [
  {
   "cell_type": "markdown",
   "id": "5de84644-7f4d-49b1-9bbf-9d8d6aa4b52f",
   "metadata": {},
   "source": [
    "# Tracking Pro Supports"
   ]
  },
  {
   "cell_type": "markdown",
   "id": "87a2586b-a994-4e6e-8654-5b1f70942f34",
   "metadata": {},
   "source": [
    "## Getting Latest Version\n",
    "\n",
    "<p>First, we use Data Dragon to get the latest version of the game for our region (na1). </p>\n",
    "<p></p>"
   ]
  },
  {
   "cell_type": "code",
   "execution_count": 44,
   "id": "209e6585-1f08-4213-8903-8ab77f66407a",
   "metadata": {},
   "outputs": [
    {
     "name": "stdout",
     "output_type": "stream",
     "text": [
      "Annie,Olaf,Galio,TwistedFate,XinZhao,Urgot,Leblanc,Vladimir,Fiddlesticks,Kayle,MasterYi,Alistar,Ryze,Sion,Sivir,Soraka,Teemo,Tristana,Warwick,Nunu,MissFortune,Ashe,Tryndamere,Jax,Morgana,Zilean,Singed,Evelynn,Twitch,Karthus,Chogath,Amumu,Rammus,Anivia,Shaco,DrMundo,Sona,Kassadin,Irelia,Janna,Gangplank,Corki,Karma,Taric,Veigar,Trundle,Swain,Caitlyn,Blitzcrank,Malphite,Katarina,Nocturne,Maokai,Renekton,JarvanIV,Elise,Orianna,MonkeyKing,Brand,LeeSin,Vayne,Rumble,Cassiopeia,Skarner,Heimerdinger,Nasus,Nidalee,Udyr,Poppy,Gragas,Pantheon,Ezreal,Mordekaiser,Yorick,Akali,Kennen,Garen,Leona,Malzahar,Talon,Riven,KogMaw,Shen,Lux,Xerath,Shyvana,Ahri,Graves,Fizz,Volibear,Rengar,Varus,Nautilus,Viktor,Sejuani,Fiora,Ziggs,Lulu,Draven,Hecarim,Khazix,Darius,Jayce,Lissandra,Diana,Quinn,Syndra,AurelionSol,Kayn,Zoe,Zyra,Kaisa,Seraphine,Gnar,Zac,Yasuo,Velkoz,Taliyah,Camille,Akshan,Belveth,Braum,Jhin,Kindred,Zeri,Jinx,TahmKench,Viego,Senna,Lucian,Zed,Kled,Ekko,Qiyana,Vi,Aatrox,Nami,Azir,Yuumi,Samira,Thresh,Illaoi,RekSai,Ivern,Kalista,Bard,Rakan,Xayah,Ornn,Sylas,Neeko,Aphelios,Rell,Pyke,Vex,Yone,Sett,Lillia,Gwen,Renata,Nilah,KSante,Milio \n",
      " 1,2,3,4,5,6,7,8,9,10,11,12,13,14,15,16,17,18,19,20,21,22,23,24,25,26,27,28,29,30,31,32,33,34,35,36,37,38,39,40,41,42,43,44,45,48,50,51,53,54,55,56,57,58,59,60,61,62,63,64,67,68,69,72,74,75,76,77,78,79,80,81,82,83,84,85,86,89,90,91,92,96,98,99,101,102,103,104,105,106,107,110,111,112,113,114,115,117,119,120,121,122,126,127,131,133,134,136,141,142,143,145,147,150,154,157,161,163,164,166,200,201,202,203,221,222,223,234,235,236,238,240,245,246,254,266,267,268,350,360,412,420,421,427,429,432,497,498,516,517,518,523,526,555,711,777,875,876,887,888,895,897,902\n"
     ]
    }
   ],
   "source": [
    "from riotwatcher import LolWatcher, ApiError\n",
    "\n",
    "# api key goes here\n",
    "api_key = 'RGAPI-5658c289-128d-4696-89ee-04a9fd71ae75'\n",
    "\n",
    "lol_watcher = LolWatcher(api_key)\n",
    "\n",
    "versions = lol_watcher.data_dragon.versions_for_region('na1')\n",
    "champions_version = versions['n']['champion']\n",
    "# print(champions_version)\n",
    "\n",
    "current_champion_list = lol_watcher.data_dragon.champions(champions_version)\n",
    "champion_key_pairs = ([[current_champion_list['data'][name]['id'], current_champion_list['data'][name]['key']] for name in current_champion_list['data']])\n",
    "champion_key_pairs.sort(key=lambda x: int(x[1]))\n",
    "\n",
    "csv_champions = ','.join([i[0] for i in champion_key_pairs])\n",
    "csv_keys = ','.join([i[1] for i in champion_key_pairs])\n",
    "\n",
    "with open('champions.txt', 'w') as f:\n",
    "    f.write(csv_champions)\n",
    "    f.write('\\n')\n",
    "    f.write(csv_keys)\n",
    "    f.close()"
   ]
  },
  {
   "cell_type": "code",
   "execution_count": 4,
   "id": "33856ed1-4ba3-4a7d-8ca1-91cfb96cc679",
   "metadata": {},
   "outputs": [
    {
     "name": "stdout",
     "output_type": "stream",
     "text": [
      "{'id': 'Z2wyccLK4Bz2EyaJ6W_Vwu8AFFMp0b0SxD81Dne3G51tXIk', 'accountId': 'i_FI-Mxk9LyFeUPfzVsBVMFb3lmnDRCJ7nBzkBUp_ywfdg', 'puuid': 'qmE7mbGeQYtCkQ0eb6VknE4Yi-2Ts-n8ekM4o2z3cJHow_knhQYkC_45vYDazCgA9xxNbYmHtFrpGA', 'name': 'kuraian', 'profileIconId': 5675, 'revisionDate': 1684632781000, 'summonerLevel': 515}\n",
      "[{'leagueId': 'e5da66a2-15a9-41b0-931e-de612e68fe3a', 'queueType': 'RANKED_FLEX_SR', 'tier': 'PLATINUM', 'rank': 'II', 'summonerId': 'Z2wyccLK4Bz2EyaJ6W_Vwu8AFFMp0b0SxD81Dne3G51tXIk', 'summonerName': 'kuraian', 'leaguePoints': 97, 'wins': 13, 'losses': 29, 'veteran': False, 'inactive': False, 'freshBlood': False, 'hotStreak': False}, {'leagueId': '056c883a-68b1-497c-aad3-cc05789d9449', 'queueType': 'RANKED_SOLO_5x5', 'tier': 'DIAMOND', 'rank': 'I', 'summonerId': 'Z2wyccLK4Bz2EyaJ6W_Vwu8AFFMp0b0SxD81Dne3G51tXIk', 'summonerName': 'kuraian', 'leaguePoints': 75, 'wins': 226, 'losses': 222, 'veteran': False, 'inactive': False, 'freshBlood': False, 'hotStreak': False}]\n",
      "Summoner with that ridiculous name not found.\n"
     ]
    }
   ],
   "source": [
    "from riotwatcher import LolWatcher, ApiError\n",
    "\n",
    "lol_watcher = LolWatcher('RGAPI-5658c289-128d-4696-89ee-04a9fd71ae75')\n",
    "\n",
    "my_region = 'na1'\n",
    "\n",
    "me = lol_watcher.summoner.by_name(my_region, 'kuraian')\n",
    "print(me)\n",
    "\n",
    "# all objects are returned (by default) as a dict\n",
    "# lets see if i got diamond yet (i probably didnt)\n",
    "my_ranked_stats = lol_watcher.league.by_summoner(my_region, me['id'])\n",
    "print(my_ranked_stats)\n",
    "\n",
    "# First we get the latest version of the game from data dragon\n",
    "versions = lol_watcher.data_dragon.versions_for_region(my_region)\n",
    "champions_version = versions['n']['champion']\n",
    "\n",
    "# Lets get some champions\n",
    "# current_champ_list = lol_watcher.data_dragon.champions(champions_version)\n",
    "# print(current_champ_list)\n",
    "\n",
    "# For Riot's API, the 404 status code indicates that the requested data wasn't found and\n",
    "# should be expected to occur in normal operation, as in the case of a an\n",
    "# invalid summoner name, match ID, etc.\n",
    "#\n",
    "# The 429 status code indicates that the user has sent too many requests\n",
    "# in a given amount of time (\"rate limiting\").\n",
    "\n",
    "try:\n",
    "    response = lol_watcher.summoner.by_name(my_region, 'someone is really really really really dumb')\n",
    "except ApiError as err:\n",
    "    if err.response.status_code == 429:\n",
    "        print('We should retry in {} seconds.'.format(err.response.headers['Retry-After']))\n",
    "        print('this retry-after is handled by default by the RiotWatcher library')\n",
    "        print('future requests wait until the retry-after time passes')\n",
    "    elif err.response.status_code == 404:\n",
    "        print('Summoner with that ridiculous name not found.')\n",
    "    else:\n",
    "        raise"
   ]
  },
  {
   "cell_type": "code",
   "execution_count": null,
   "id": "f91287d2-569a-4430-9dfb-2af587423351",
   "metadata": {},
   "outputs": [],
   "source": []
  }
 ],
 "metadata": {
  "kernelspec": {
   "display_name": "Python 3 (ipykernel)",
   "language": "python",
   "name": "python3"
  },
  "language_info": {
   "codemirror_mode": {
    "name": "ipython",
    "version": 3
   },
   "file_extension": ".py",
   "mimetype": "text/x-python",
   "name": "python",
   "nbconvert_exporter": "python",
   "pygments_lexer": "ipython3",
   "version": "3.11.1"
  }
 },
 "nbformat": 4,
 "nbformat_minor": 5
}
